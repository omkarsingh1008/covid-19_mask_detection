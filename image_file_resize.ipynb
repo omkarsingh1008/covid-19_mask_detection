{
 "cells": [
  {
   "cell_type": "code",
   "execution_count": 16,
   "metadata": {},
   "outputs": [],
   "source": [
    "import pandas as pd\n",
    "from PIL import Image\n",
    "import os\n",
    "from tqdm import tqdm\n",
    "path='D:\\\\covid-19 mask detection\\\\image\\\\mask'\n",
    "path_normal='D:\\\\covid-19 mask detection\\\\image\\\\normal'\n",
    "import cv2"
   ]
  },
  {
   "cell_type": "code",
   "execution_count": 17,
   "metadata": {},
   "outputs": [
    {
     "name": "stderr",
     "output_type": "stream",
     "text": [
      "100%|████████████████████████████████████████████████████████████████████████████████| 591/591 [00:12<00:00, 67.61it/s]\n"
     ]
    }
   ],
   "source": [
    "for i in tqdm(os.listdir(path_normal)):\n",
    "    img=cv2.imread(path_normal+'\\\\'+i)\n",
    "    img=cv2.resize(img,(100,100))\n",
    "    cv2.imwrite(path_normal+'\\\\'+i,img)"
   ]
  },
  {
   "cell_type": "code",
   "execution_count": null,
   "metadata": {},
   "outputs": [],
   "source": []
  },
  {
   "cell_type": "code",
   "execution_count": null,
   "metadata": {},
   "outputs": [],
   "source": []
  }
 ],
 "metadata": {
  "kernelspec": {
   "display_name": "Python 3",
   "language": "python",
   "name": "python3"
  },
  "language_info": {
   "codemirror_mode": {
    "name": "ipython",
    "version": 3
   },
   "file_extension": ".py",
   "mimetype": "text/x-python",
   "name": "python",
   "nbconvert_exporter": "python",
   "pygments_lexer": "ipython3",
   "version": "3.7.3"
  }
 },
 "nbformat": 4,
 "nbformat_minor": 2
}
